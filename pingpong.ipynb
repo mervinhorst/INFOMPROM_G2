{
 "cells": [
  {
   "cell_type": "code",
   "execution_count": 1,
   "metadata": {},
   "outputs": [],
   "source": [
    "import pandas as pd\n",
    "import numpy as np\n",
    "import datetime as dt\n",
    "import matplotlib.pyplot as plt\n",
    "import math\n",
    "import warnings\n",
    "warnings.simplefilter(action=\"ignore\", category=FutureWarning)"
   ]
  },
  {
   "cell_type": "code",
   "execution_count": 2,
   "metadata": {},
   "outputs": [],
   "source": [
    "def load_data(data_path):\n",
    "    df = pd.read_csv(data_path, sep='\\t', parse_dates=['ActivityTimeStamp'])\n",
    "    df = df.sort_values(by=['Incident ID'])\n",
    "    return df\n"
   ]
  },
  {
   "cell_type": "code",
   "execution_count": 3,
   "metadata": {},
   "outputs": [],
   "source": [
    "data = load_data('./data/incidentProcess_custom.csv')"
   ]
  },
  {
   "cell_type": "code",
   "execution_count": 4,
   "metadata": {},
   "outputs": [
    {
     "data": {
      "text/plain": [
       "279328"
      ]
     },
     "execution_count": 4,
     "metadata": {},
     "output_type": "execute_result"
    }
   ],
   "source": [
    "data.isnull().values.sum()"
   ]
  },
  {
   "cell_type": "code",
   "execution_count": 5,
   "metadata": {},
   "outputs": [
    {
     "name": "stdout",
     "output_type": "stream",
     "text": [
      "<class 'pandas.core.frame.DataFrame'>\n",
      "Int64Index: 303819 entries, 0 to 303818\n",
      "Data columns (total 24 columns):\n",
      " #   Column                   Non-Null Count   Dtype         \n",
      "---  ------                   --------------   -----         \n",
      " 0   Incident ID              303819 non-null  object        \n",
      " 1   Activity                 303819 non-null  object        \n",
      " 2   ActivityTimeStamp        303819 non-null  datetime64[ns]\n",
      " 3   Asset Affected           303819 non-null  object        \n",
      " 4   Asset Type Affected      303819 non-null  object        \n",
      " 5   Asset SubType Affected   303819 non-null  object        \n",
      " 6   Service Affected         303819 non-null  object        \n",
      " 7   Status                   303819 non-null  object        \n",
      " 8   Impact                   303819 non-null  int64         \n",
      " 9   Urgency                  303819 non-null  int64         \n",
      " 10  Priority                 303819 non-null  int64         \n",
      " 11  Category                 303819 non-null  object        \n",
      " 12  Number of Reassignments  303810 non-null  float64       \n",
      " 13  Open Time                303819 non-null  object        \n",
      " 14  Reopen Time              33687 non-null   object        \n",
      " 15  Resolved Time            294641 non-null  object        \n",
      " 16  Close Time               303819 non-null  object        \n",
      " 17  Handle Time (Hours)      303810 non-null  object        \n",
      " 18  Closure Code             303819 non-null  object        \n",
      " 19  Asset Caused             303819 non-null  object        \n",
      " 20  Asset Type Caused        303819 non-null  object        \n",
      " 21  Asset SubType Caused     303819 non-null  object        \n",
      " 22  Service Caused           303819 non-null  object        \n",
      " 23  Assignment Group         303819 non-null  object        \n",
      "dtypes: datetime64[ns](1), float64(1), int64(3), object(19)\n",
      "memory usage: 57.9+ MB\n"
     ]
    }
   ],
   "source": [
    "data.info()"
   ]
  },
  {
   "cell_type": "code",
   "execution_count": 6,
   "metadata": {},
   "outputs": [],
   "source": [
    "def incident_sorted_list(data, incident_id):\n",
    "    '''\n",
    "    '''\n",
    "    df = pd.DataFrame()\n",
    "    df = data[data['Incident ID'] == incident_id] # select all rows with incident_id\n",
    "    # df['ActivityTimeStamp'] = pd.to_datetime(df['ActivityTimeStamp']) # parse as timestamp\n",
    "    # df['ActivityTimeStamp'] = df['ActivityTimeStamp'].apply(\n",
    "    #     lambda x: dt.datetime.strftime(x, '%Y-%d-%m %H:%M:%S')) # transform\n",
    "    df = df.sort_values(by=['ActivityTimeStamp'], ascending=True)\n",
    "    # print(df)\n",
    "    return df"
   ]
  },
  {
   "cell_type": "code",
   "execution_count": 7,
   "metadata": {},
   "outputs": [],
   "source": [
    "def check_ping_pong(df):\n",
    "    pingpong = 0\n",
    "    assignments = []\n",
    "    timedeltas = []\n",
    "    for i in range(df.shape[0] - 1):\n",
    "        activityA = df['Activity'].iloc[i]\n",
    "        activityB = df['Activity'].iloc[i+1]\n",
    "        if activityA == activityB:\n",
    "            if df['Assignment Group'].iloc[i] != df['Assignment Group'].iloc[i+1]:\n",
    "                assignments.append((df['Assignment Group'].iloc[i], df['Assignment Group'].iloc[i+1], activityA))\n",
    "                timedeltas.append(df['ActivityTimeStamp'].iloc[i+1] - df['ActivityTimeStamp'].iloc[i])\n",
    "                # hier dus eigenlijk een lijst met tuple (teamA en TeamB plus timestamps en misschien ook de activiteit in kwestie) returnen en na alle incidenten opslaan\n",
    "                # print(df['Assignment Group'].iloc[i])\n",
    "                # print(df['Assignment Group'].iloc[i+1])\n",
    "                pingpong += 1\n",
    "    return pingpong, assignments, timedeltas"
   ]
  },
  {
   "cell_type": "code",
   "execution_count": 8,
   "metadata": {},
   "outputs": [],
   "source": [
    "def get_unique_incidents(df):\n",
    "    return list(df['Incident ID'].unique())"
   ]
  },
  {
   "cell_type": "code",
   "execution_count": 9,
   "metadata": {},
   "outputs": [
    {
     "data": {
      "text/plain": [
       "'IM0000147'"
      ]
     },
     "execution_count": 9,
     "metadata": {},
     "output_type": "execute_result"
    }
   ],
   "source": [
    "get_unique_incidents(data)[100]"
   ]
  },
  {
   "cell_type": "code",
   "execution_count": 10,
   "metadata": {},
   "outputs": [],
   "source": [
    "pd.options.mode.chained_assignment = None"
   ]
  },
  {
   "cell_type": "code",
   "execution_count": 11,
   "metadata": {},
   "outputs": [],
   "source": [
    "pingpong_df = pd.DataFrame()\n",
    "asset_types = []\n",
    "pings_list = []\n",
    "timedeltas = []\n",
    "for (pos, i_id) in enumerate(get_unique_incidents(data)):\n",
    "    # if pos == 1000:\n",
    "    #     break\n",
    "    sorted_incident = incident_sorted_list(data, i_id)\n",
    "    pings, activities, timedelta = check_ping_pong(sorted_incident)\n",
    "    timedeltas.append(timedelta)\n",
    "    # print(sorted_incident['Asset Type Affected'].iloc[0], pings, activities)\n",
    "    asset_types.append(sorted_incident['Asset Type Affected'].iloc[0])\n",
    "    pings_list.append(pings)\n",
    "    pingpong_df = pingpong_df.append({\"Incident ID\": i_id, \"pings\": pings}, ignore_index=True)\n",
    "\n",
    "asset_type_pings_df = pd.DataFrame()\n",
    "asset_type_pings_df['pings'] = pings_list\n",
    "asset_type_pings_df['Asset Type'] = asset_types\n"
   ]
  },
  {
   "cell_type": "code",
   "execution_count": 12,
   "metadata": {},
   "outputs": [
    {
     "data": {
      "text/plain": [
       "0     36826\n",
       "1      5929\n",
       "2      2001\n",
       "3       864\n",
       "4       393\n",
       "5       250\n",
       "6       131\n",
       "7        59\n",
       "8        56\n",
       "9        36\n",
       "10       20\n",
       "11        9\n",
       "12        7\n",
       "14        5\n",
       "16        4\n",
       "13        4\n",
       "19        2\n",
       "21        1\n",
       "18        1\n",
       "26        1\n",
       "15        1\n",
       "17        1\n",
       "Name: pings, dtype: int64"
      ]
     },
     "execution_count": 12,
     "metadata": {},
     "output_type": "execute_result"
    }
   ],
   "source": [
    "pingpong_df['pings'].value_counts()"
   ]
  },
  {
   "cell_type": "code",
   "execution_count": 13,
   "metadata": {},
   "outputs": [
    {
     "data": {
      "text/plain": [
       "pings    1.0\n",
       "dtype: float64"
      ]
     },
     "execution_count": 13,
     "metadata": {},
     "output_type": "execute_result"
    }
   ],
   "source": [
    "pingpong_df[pingpong_df['pings'] > 0].median()"
   ]
  },
  {
   "cell_type": "code",
   "execution_count": 41,
   "metadata": {},
   "outputs": [
    {
     "data": {
      "text/plain": [
       "Text(0, 0.5, 'Frequency')"
      ]
     },
     "execution_count": 41,
     "metadata": {},
     "output_type": "execute_result"
    },
    {
     "data": {
      "image/png": "[encoded data removed]",
      "text/plain": [
       "<Figure size 432x288 with 1 Axes>"
      ]
     },
     "metadata": {
      "needs_background": "light"
     },
     "output_type": "display_data"
    }
   ],
   "source": [
    "plt.hist(pingpong_df['pings'], bins=25)\n",
    "plt.xlabel(\"Pings count\")\n",
    "plt.ylabel(\"Frequency\")"
   ]
  },
  {
   "cell_type": "code",
   "execution_count": 15,
   "metadata": {},
   "outputs": [],
   "source": [
    "timedeltas\n",
    "flat_deltas = [x for xs in timedeltas for x in xs]\n"
   ]
  },
  {
   "cell_type": "code",
   "execution_count": 16,
   "metadata": {},
   "outputs": [],
   "source": [
    "deltas_df = pd.DataFrame()\n",
    "deltas_df['Time Deltas'] = flat_deltas"
   ]
  },
  {
   "cell_type": "code",
   "execution_count": 17,
   "metadata": {},
   "outputs": [
    {
     "data": {
      "text/plain": [
       "Time Deltas   1 days 04:32:45.369034406\n",
       "dtype: timedelta64[ns]"
      ]
     },
     "execution_count": 17,
     "metadata": {},
     "output_type": "execute_result"
    }
   ],
   "source": [
    "deltas_df.mean()"
   ]
  },
  {
   "cell_type": "code",
   "execution_count": 37,
   "metadata": {},
   "outputs": [
    {
     "data": {
      "text/plain": [
       "Time Deltas        0 days 01:14:45.500000\n",
       "Time Deltas [s]                    4485.5\n",
       "dtype: object"
      ]
     },
     "execution_count": 37,
     "metadata": {},
     "output_type": "execute_result"
    }
   ],
   "source": [
    "deltas_df.median()"
   ]
  },
  {
   "cell_type": "code",
   "execution_count": 18,
   "metadata": {},
   "outputs": [
    {
     "data": {
      "text/plain": [
       "Time Deltas   6 days 16:21:35.781311915\n",
       "dtype: timedelta64[ns]"
      ]
     },
     "execution_count": 18,
     "metadata": {},
     "output_type": "execute_result"
    }
   ],
   "source": [
    "deltas_df.std()"
   ]
  },
  {
   "cell_type": "code",
   "execution_count": 19,
   "metadata": {},
   "outputs": [
    {
     "data": {
      "text/plain": [
       "Time Deltas   220 days 06:55:14\n",
       "dtype: timedelta64[ns]"
      ]
     },
     "execution_count": 19,
     "metadata": {},
     "output_type": "execute_result"
    }
   ],
   "source": [
    "deltas_df.max()"
   ]
  },
  {
   "cell_type": "code",
   "execution_count": 20,
   "metadata": {},
   "outputs": [
    {
     "data": {
      "text/plain": [
       "Time Deltas   21433 days 05:45:50\n",
       "dtype: timedelta64[ns]"
      ]
     },
     "execution_count": 20,
     "metadata": {},
     "output_type": "execute_result"
    }
   ],
   "source": [
    "deltas_df.sum()"
   ]
  },
  {
   "cell_type": "code",
   "execution_count": 38,
   "metadata": {},
   "outputs": [],
   "source": [
    "deltas_df['Time Deltas [s]'] = deltas_df['Time Deltas'].astype('timedelta64[s]')\n",
    "result  = deltas_df[deltas_df['Time Deltas'].astype('timedelta64[s]') > 60 * 60 *24 * 7] \n"
   ]
  },
  {
   "cell_type": "code",
   "execution_count": 39,
   "metadata": {},
   "outputs": [
    {
     "data": {
      "text/plain": [
       "(511, 2)"
      ]
     },
     "execution_count": 39,
     "metadata": {},
     "output_type": "execute_result"
    }
   ],
   "source": [
    "result.shape"
   ]
  },
  {
   "cell_type": "code",
   "execution_count": 40,
   "metadata": {},
   "outputs": [
    {
     "data": {
      "text/plain": [
       "Text(0.5, 1.0, 'Time deltas between pings')"
      ]
     },
     "execution_count": 40,
     "metadata": {},
     "output_type": "execute_result"
    },
    {
     "data": {
      "image/png": "[encoded data removed]",
      "text/plain": [
       "<Figure size 432x288 with 1 Axes>"
      ]
     },
     "metadata": {
      "needs_background": "light"
     },
     "output_type": "display_data"
    }
   ],
   "source": [
    "# deltas_df['Time Deltas'].dt.days.plot.hist(bins=20)\n",
    "plt.hist((result['Time Deltas'].astype('timedelta64[h]') / 24), bins=50)\n",
    "plt.xlabel(\"Days delay\")\n",
    "plt.ylabel(\"Frequency\")\n",
    "plt.title(\"Time deltas between pings\")"
   ]
  },
  {
   "cell_type": "markdown",
   "metadata": {},
   "source": []
  },
  {
   "cell_type": "code",
   "execution_count": 24,
   "metadata": {},
   "outputs": [
    {
     "data": {
      "text/plain": [
       "Text(0, 0.5, 'Incident count')"
      ]
     },
     "execution_count": 24,
     "metadata": {},
     "output_type": "execute_result"
    },
    {
     "data": {
      "image/png": "[encoded data removed]",
      "text/plain": [
       "<Figure size 432x288 with 1 Axes>"
      ]
     },
     "metadata": {
      "needs_background": "light"
     },
     "output_type": "display_data"
    }
   ],
   "source": [
    "# asset_type_pings_df['Asset Type'].value_counts().plot()\n",
    "asset_type_pings_df['Asset Type'].value_counts().plot(kind='bar')\n",
    "plt.title(\"Asset Type Affected\")\n",
    "plt.ylabel(\"Incident count\")"
   ]
  },
  {
   "cell_type": "code",
   "execution_count": 25,
   "metadata": {},
   "outputs": [
    {
     "data": {
      "text/plain": [
       "application             32895\n",
       "subapplication           7782\n",
       "computer                 3643\n",
       "storage                   703\n",
       "hardware                  442\n",
       "software                  333\n",
       "database                  214\n",
       "displaydevice             212\n",
       "officeelectronics         152\n",
       "#N/B                      111\n",
       "networkcomponents         107\n",
       "applicationcomponent        5\n",
       "Phone                       2\n",
       "Name: Asset Type, dtype: int64"
      ]
     },
     "execution_count": 25,
     "metadata": {},
     "output_type": "execute_result"
    }
   ],
   "source": [
    "asset_type_pings_df['Asset Type'].value_counts()"
   ]
  },
  {
   "cell_type": "code",
   "execution_count": 26,
   "metadata": {},
   "outputs": [
    {
     "data": {
      "text/plain": [
       "application             0.705886\n",
       "subapplication          0.166992\n",
       "computer                0.078174\n",
       "storage                 0.015086\n",
       "hardware                0.009485\n",
       "software                0.007146\n",
       "database                0.004592\n",
       "displaydevice           0.004549\n",
       "officeelectronics       0.003262\n",
       "#N/B                    0.002382\n",
       "networkcomponents       0.002296\n",
       "applicationcomponent    0.000107\n",
       "Phone                   0.000043\n",
       "Name: Asset Type, dtype: float64"
      ]
     },
     "execution_count": 26,
     "metadata": {},
     "output_type": "execute_result"
    }
   ],
   "source": [
    "asset_type_pings_df['Asset Type'].value_counts(normalize=True)"
   ]
  },
  {
   "cell_type": "code",
   "execution_count": null,
   "metadata": {},
   "outputs": [],
   "source": []
  },
  {
   "cell_type": "code",
   "execution_count": 27,
   "metadata": {},
   "outputs": [
    {
     "name": "stdout",
     "output_type": "stream",
     "text": [
      "0\n"
     ]
    }
   ],
   "source": [
    "print(pingpong_df['pings'].min())"
   ]
  },
  {
   "cell_type": "code",
   "execution_count": 28,
   "metadata": {},
   "outputs": [
    {
     "data": {
      "text/plain": [
       "(array([4.4756e+04, 1.5070e+03, 1.9000e+02, 1.1200e+02, 1.6000e+01,\n",
       "        1.0000e+01, 6.0000e+00, 2.0000e+00, 1.0000e+00, 1.0000e+00]),\n",
       " array([ 0. ,  2.6,  5.2,  7.8, 10.4, 13. , 15.6, 18.2, 20.8, 23.4, 26. ]),\n",
       " <BarContainer object of 10 artists>)"
      ]
     },
     "execution_count": 28,
     "metadata": {},
     "output_type": "execute_result"
    },
    {
     "data": {
      "image/png": "[encoded data removed]",
      "text/plain": [
       "<Figure size 432x288 with 1 Axes>"
      ]
     },
     "metadata": {
      "needs_background": "light"
     },
     "output_type": "display_data"
    }
   ],
   "source": [
    "plt.hist(pingpong_df['pings'])"
   ]
  },
  {
   "cell_type": "code",
   "execution_count": null,
   "metadata": {},
   "outputs": [],
   "source": []
  }
 ],
 "metadata": {
  "kernelspec": {
   "display_name": "Python 3.8.9 ('.venv': venv)",
   "language": "python",
   "name": "python3"
  },
  "language_info": {
   "codemirror_mode": {
    "name": "ipython",
    "version": 3
   },
   "file_extension": ".py",
   "mimetype": "text/x-python",
   "name": "python",
   "nbconvert_exporter": "python",
   "pygments_lexer": "ipython3",
   "version": "3.8.9"
  },
  "orig_nbformat": 4,
  "vscode": {
   "interpreter": {
    "hash": "d76b84a4589f3996cf3c9b9d898bee1fb03cd63b369450e549e58cf647f0d36f"
   }
  }
 },
 "nbformat": 4,
 "nbformat_minor": 2
}
